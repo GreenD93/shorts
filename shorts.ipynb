{
 "cells": [
  {
   "cell_type": "code",
   "execution_count": 1,
   "id": "3a7391c8-5d7d-4a00-bd70-418183ba698f",
   "metadata": {
    "tags": []
   },
   "outputs": [],
   "source": [
    "# https://platform.openai.com/docs/guides/image-generation?image-generation-model=gpt-image-1 \n",
    "# https://lumalabs.ai/ray\n",
    "# https://docs.lumalabs.ai/docs/python-video-generation "
   ]
  },
  {
   "cell_type": "code",
   "execution_count": 3,
   "id": "fe27f618-d775-4b77-a8f2-74ac37a89450",
   "metadata": {
    "tags": []
   },
   "outputs": [
    {
     "name": "stderr",
     "output_type": "stream",
     "text": [
      "OMP: Info #276: omp_set_nested routine deprecated, please use omp_set_max_active_levels instead.\n"
     ]
    }
   ],
   "source": [
    "# 이미지 준비 (gpt-img-1) model로 생성\n",
    "# 내가 원하는 이미지 준비\n",
    "\n",
    "from src.luma_generator import LumaGenerator\n",
    "from src.img_generator import ImgGenerator\n",
    "\n",
    "OPENAI_KEY = \"\"\n",
    "LUMA_KEY = \"\"\n",
    "\n",
    "AWS_ACCESS_KEY = \"\"\n",
    "AWS_SECRET_KEY =  \"\""
   ]
  },
  {
   "cell_type": "code",
   "execution_count": 4,
   "id": "0698e88c-c3cd-4284-8f53-6e1623a30655",
   "metadata": {
    "tags": []
   },
   "outputs": [],
   "source": [
    "luma_generator = LumaGenerator()\n",
    "luma_generator.set_luma_client(LUMA_KEY)\n",
    "luma_generator.set_s3_client(AWS_ACCESS_KEY, AWS_SECRET_KEY)\n",
    "\n",
    "img_generator = ImgGenerator()\n",
    "img_generator.set_openai_key(OPENAI_KEY)"
   ]
  },
  {
   "cell_type": "code",
   "execution_count": 6,
   "id": "375216e7-8e96-4a29-9f73-d573b6e4a236",
   "metadata": {
    "tags": []
   },
   "outputs": [
    {
     "name": "stdout",
     "output_type": "stream",
     "text": [
      "이미지 1개 생성 중... (Elapsed: 48초)\n",
      "[API 호출 완료] 총 소요 시간: 50.42초\n"
     ]
    },
    {
     "name": "stderr",
     "output_type": "stream",
     "text": [
      "이미지 변환 중: 100%|██████████████████████████████████████████████████████████████████████████████████████████████████████████████████████████████████████████████████████████████████████| 1/1 [00:00<00:00, 107.16img/s]\n"
     ]
    }
   ],
   "source": [
    "# step1. 이미지 생성\n",
    "\n",
    "prompt = \"\"\"\n",
    "\n",
    "케이뱅크에서 새로출시한 체크 카드 발급 유도를 위한 마케팅을 위한 9초짜리 쇼츠를 만드려고 해.\n",
    "이 쇼츠는 서울 을지로 4가를 배경으로 20대 학생이 모델로 나오는 쇼츠로 기획하고 있어.\n",
    "\n",
    "길을 걷고 있는 모습의 이미지였으면 좋겠어.\n",
    "\n",
    "\"\"\"\n",
    "\n",
    "images = [\"data/card.png\"]\n",
    "imgs, prompt = img_generator.edit_multiple_images(\n",
    "                                  prompt = prompt,\n",
    "                                  images = images,\n",
    "                                  n = 1,\n",
    "                                  size = \"1024x1024\", \n",
    "                                  background = \"opaque\",\n",
    "                                  quality = \"auto\",\n",
    "                                  model = \"gpt-image-1\",\n",
    "                                  timer_interval = 2\n",
    "                                  )"
   ]
  },
  {
   "cell_type": "code",
   "execution_count": 7,
   "id": "5d3edc14-62b1-4196-b69c-539a75d66173",
   "metadata": {
    "tags": []
   },
   "outputs": [],
   "source": [
    "from PIL import Image\n",
    "import io\n",
    "\n",
    "image_bytes = imgs[0]\n",
    "output_path = \"sample.png\"\n",
    "\n",
    "image = Image.open(io.BytesIO(image_bytes))\n",
    "image.save(output_path)"
   ]
  },
  {
   "cell_type": "code",
   "execution_count": null,
   "id": "dda42924-f7d1-40d5-a2c0-b9266e79578e",
   "metadata": {},
   "outputs": [],
   "source": []
  },
  {
   "cell_type": "code",
   "execution_count": 8,
   "id": "0b5f62fb-4c52-40b1-ab37-e84a1ab1107c",
   "metadata": {
    "tags": []
   },
   "outputs": [
    {
     "name": "stdout",
     "output_type": "stream",
     "text": [
      "\"Morning cityscape with a young man in a graphic sweatshirt and red cap, confidently striding forward. Camera at eye level, capturing bustling streets and distant skyscrapers bathed in soft urban light.\"\n"
     ]
    }
   ],
   "source": [
    "# step2. 비디오 생성을 위한 프롬프트 작성\n",
    "\n",
    "from openai import OpenAI\n",
    "import base64\n",
    "\n",
    "def encode_image(image_path):\n",
    "    with open(image_path, \"rb\") as image_file:\n",
    "        return base64.b64encode(image_file.read()).decode(\"utf-8\")\n",
    "        \n",
    "luma_video_prompt = \"\"\"\n",
    "You are a cinematic scene describer trained to generate short, vivid prompts for Luma Labs Dream Machine.\n",
    "\n",
    "Given a visual scene, generate a short cinematic prompt (15–35 words) that describes the subject, action, mood, lighting, and camera movement or angle.\n",
    "\n",
    "Examples:\n",
    "\n",
    "1. \"A massive orb of water floating in a backlit forest\"\n",
    "2. \"An explosion with camera shake\"\n",
    "3. \"Raindrops in extreme slow motion\"\n",
    "4. \"A snow leopard crouched on a rocky ledge, staring directly at camera, snowflakes falling around it\"\n",
    "5. \"A detective in a dark trench coat and hat, holding a lantern, walks carefully down a narrow cobblestone alley, mist curling around his feet\"\n",
    "6. \"At sunrise, place the camera at ground level, looking up at a solitary warrior standing on a rugged cliff edge, wind pulling at his cloak\"\n",
    "7. \"A tiny chihuahua dressed in post-apocalyptic leathers with a WW2 bomber cap and goggles sits proudly on a makeshift throne\"\n",
    "8. \"A cellist alone on stage under a single spotlight, camera slowly circling her as she begins to play\"\n",
    "9. \"A gorilla surfing on a wave, water splashing dramatically as it leans into the motion\"\n",
    "\n",
    "Now, based on the input image or concept, generate a similarly styled prompt that is cinematic, physical, and emotionally engaging.\n",
    "\n",
    "Output only the prompt text.\n",
    "\n",
    "\"\"\"\n",
    "\n",
    "client = OpenAI(api_key=OPENAI_KEY)\n",
    "\n",
    "# Getting the Base64 string\n",
    "base64_image = encode_image(output_path)\n",
    "\n",
    "response = client.responses.create(\n",
    "    model=\"gpt-4o\",\n",
    "    input=[\n",
    "        {\n",
    "            \"role\": \"user\",\n",
    "            \"content\": [\n",
    "                { \"type\": \"input_text\", \"text\": luma_video_prompt },\n",
    "                {\n",
    "                    \"type\": \"input_image\",\n",
    "                    \"image_url\": f\"data:image/jpeg;base64,{base64_image}\",\n",
    "                },\n",
    "            ],\n",
    "        }\n",
    "    ],\n",
    ")\n",
    "\n",
    "print(response.output_text)"
   ]
  },
  {
   "cell_type": "code",
   "execution_count": null,
   "id": "2989501e-8fca-488a-aeed-da3a91a19b55",
   "metadata": {},
   "outputs": [],
   "source": []
  },
  {
   "cell_type": "code",
   "execution_count": 9,
   "id": "b079ef4c-7825-45f3-aafe-e57a5df93bff",
   "metadata": {
    "tags": []
   },
   "outputs": [
    {
     "name": "stdout",
     "output_type": "stream",
     "text": [
      "File uploaded successfully. Public URL: https://kbank-data-intelligence.s3.ap-northeast-2.amazonaws.com/kpick/img/sample.png\n",
      " 비디오 생성 중... (Elapsed: 204초)"
     ]
    }
   ],
   "source": [
    "# step3. 비디오 생성\n",
    "\n",
    "video_prompt = response.output_text\n",
    "keyframes = [output_path]\n",
    "video_bytes, prompt = luma_generator.generate_video(video_prompt,\n",
    "                           keyframes=keyframes,\n",
    "                           loop=True,\n",
    "                           model=\"ray-2\",\n",
    "                           aspect_ratio=\"9:16\",\n",
    "                           resolution=\"720p\",\n",
    "                           duration=\"9s\",\n",
    "                        )"
   ]
  },
  {
   "cell_type": "code",
   "execution_count": 10,
   "id": "386a6b04-5fe1-4cf4-8c03-4a7c93d3c02d",
   "metadata": {
    "tags": []
   },
   "outputs": [],
   "source": [
    "with open(\"shorts.mp4\", \"wb\") as f:\n",
    "    f.write(video_bytes)"
   ]
  },
  {
   "cell_type": "code",
   "execution_count": null,
   "id": "3e1d7161-e816-45c6-9694-844171aa0061",
   "metadata": {},
   "outputs": [],
   "source": []
  },
  {
   "cell_type": "code",
   "execution_count": 11,
   "id": "0d726d9c-cc9a-4c1a-8941-5055571027f1",
   "metadata": {
    "tags": []
   },
   "outputs": [
    {
     "name": "stdout",
     "output_type": "stream",
     "text": [
      "케이뱅크 카드\n",
      "캐시백 쏙쏙!\n",
      "편의점 OK\n",
      "온라인 찰떡\n",
      "대중교통 추가\n",
      "스탬프로 확인\n",
      "이제는 선택\n",
      "혜택 듬뿍!\n"
     ]
    }
   ],
   "source": [
    "# step4. 자막 생성\n",
    "\n",
    "# Path to your image\n",
    "image_path = \"sample.png\"\n",
    "\n",
    "# Getting the Base64 string\n",
    "base64_image = encode_image(image_path)\n",
    "\n",
    "prompt = \"\"\"\n",
    "\n",
    "케이뱅크에서 새로나온 One체크카드를 소개하는 쇼츠 영상 자막 8줄 만들어줘\n",
    "\n",
    "TTS로 말했을 때 총 발화 시간이 8.5초 이내여야 해.\n",
    "각 줄은 되도록 8자 이내, 짧고 리듬감 있게 만들어줘.\n",
    "말했을 때 자연스럽고 부드러운 흐름이 되도록 해줘.\n",
    "번호나 따옴표 없이, 줄바꿈으로만 구분해줘.\n",
    "\n",
    "쇼츠로 만드려고하는 이미지 썸네일도 같이 첨부 해줄게\n",
    "반드시 추가 설명 없이 자막 8줄만 만들어줘.\n",
    "\n",
    "카드 혜택 : \n",
    "\n",
    "✅ 케이뱅크 ONE 체크카드 (연회비·실적 조건 없음)\n",
    "매월 원하는 캐시백 혜택을 자유롭게 선택할 수 있는 체크카드입니다.\n",
    "\n",
    "1.여기서 더 캐시백\n",
    "\n",
    "편의점, 카페, 배달앱, OTT, 영화 업종에서 7% 캐시백\n",
    "건당 1만 원 이상 결제 시 적용 (일 1천 원, 월 2만5천 원 한도)\n",
    "\n",
    "2. 모두 다 캐시백\n",
    "\n",
    "오프라인 업종 0.7%, 온라인 쇼핑 1.2% 캐시백\n",
    "실적 조건, 한도 없이 자동 적용\n",
    "\n",
    "3. 369 캐시백\n",
    "\n",
    "월 결제 횟수가 3회, 6회, 9회일 때 각 1,000원 캐시백\n",
    "건당 5천 원 이상 결제 시 적용 (스탬프 형태로 확인 가능)\n",
    "\n",
    "4. 대중교통 추가 캐시백\n",
    "\n",
    "카드로 대중교통 월 5만 원 이상 이용 시 3,000원 추가 캐시백\n",
    "\"\"\"\n",
    "\n",
    "\n",
    "response = client.responses.create(\n",
    "    model=\"gpt-4o\",\n",
    "    input=[\n",
    "        {\n",
    "            \"role\": \"user\",\n",
    "            \"content\": [\n",
    "                { \"type\": \"input_text\", \"text\": prompt },\n",
    "                {\n",
    "                    \"type\": \"input_image\",\n",
    "                    \"image_url\": f\"data:image/jpeg;base64,{base64_image}\",\n",
    "                },\n",
    "            ],\n",
    "        }\n",
    "    ],\n",
    ")\n",
    "\n",
    "print(response.output_text)"
   ]
  },
  {
   "cell_type": "code",
   "execution_count": 12,
   "id": "c78bc3ef-19a0-49c4-b635-d7696deab099",
   "metadata": {
    "tags": []
   },
   "outputs": [
    {
     "name": "stdout",
     "output_type": "stream",
     "text": [
      "['케이뱅크 카드', '캐시백 쏙쏙!', '편의점 OK', '온라인 찰떡', '대중교통 추가', '스탬프로 확인', '이제는 선택', '혜택 듬뿍!']\n"
     ]
    }
   ],
   "source": [
    "lines = response.output_text\n",
    "lines = [line.strip() for line in lines.split(\"\\n\") if line.strip()]\n",
    "print(lines)"
   ]
  },
  {
   "cell_type": "code",
   "execution_count": 14,
   "id": "701f77b0-cdec-4009-b5c0-68e837871547",
   "metadata": {
    "tags": []
   },
   "outputs": [
    {
     "name": "stdout",
     "output_type": "stream",
     "text": [
      "✅ 생성 완료: line_5.mp3\n",
      "✅ 생성 완료: line_6.mp3\n",
      "✅ 생성 완료: line_8.mp3\n",
      "✅ 생성 완료: line_4.mp3\n",
      "✅ 생성 완료: line_1.mp3\n",
      "✅ 생성 완료: line_2.mp3\n",
      "✅ 생성 완료: line_3.mp3\n",
      "✅ 생성 완료: line_7.mp3\n"
     ]
    }
   ],
   "source": [
    "# step5. tts(text to speach)\n",
    "# https://platform.openai.com/docs/guides/text-to-speech\n",
    "import openai\n",
    "import asyncio\n",
    "\n",
    "import nest_asyncio\n",
    "import asyncio\n",
    "\n",
    "# jupyter notebook에서 아래 코드 실행\n",
    "nest_asyncio.apply()\n",
    "\n",
    "# 비동기 클라이언트 인스턴스 생성\n",
    "async_client = openai.AsyncOpenAI(api_key=OPENAI_KEY)\n",
    "\n",
    "# 개별 TTS 요청 (async)\n",
    "async def generate_tts(client, text, index, voice=\"shimmer\", model=\"tts-1\"):\n",
    "    filename = f\"line_{index+1}.mp3\"\n",
    "    try:\n",
    "        response = await async_client.audio.speech.create(\n",
    "            model=model,\n",
    "            voice=voice,\n",
    "            input=text,\n",
    "        )\n",
    "        with open(filename, \"wb\") as f:\n",
    "            f.write(response.content)\n",
    "        print(f\"✅ 생성 완료: {filename}\")\n",
    "        return filename\n",
    "    except Exception as e:\n",
    "        print(f\"❌ TTS 오류 (line {index+1}): {e}\")\n",
    "        return None\n",
    "\n",
    "# 여러 줄 비동기 처리\n",
    "async def generate_all_tts(lines, voice=\"shimmer\"):\n",
    "    tasks = [\n",
    "        generate_tts(client, line, idx, voice=voice)\n",
    "        for idx, line in enumerate(lines)\n",
    "    ]\n",
    "    return await asyncio.gather(*tasks)\n",
    "\n",
    "tts_files = asyncio.run(generate_all_tts(lines))"
   ]
  },
  {
   "cell_type": "code",
   "execution_count": 15,
   "id": "eb044753-ffd9-4211-b178-371995d26388",
   "metadata": {
    "scrolled": true,
    "tags": []
   },
   "outputs": [
    {
     "name": "stdout",
     "output_type": "stream",
     "text": [
      "🎵 TTS 오디오 병합 중...\n"
     ]
    },
    {
     "name": "stderr",
     "output_type": "stream",
     "text": [
      "ffmpeg version 7.1.1 Copyright (c) 2000-2025 the FFmpeg developers\n",
      "  built with Apple clang version 16.0.0 (clang-1600.0.26.6)\n",
      "  configuration: --prefix=/opt/homebrew/Cellar/ffmpeg/7.1.1_2 --enable-shared --enable-pthreads --enable-version3 --cc=clang --host-cflags= --host-ldflags='-Wl,-ld_classic' --enable-ffplay --enable-gnutls --enable-gpl --enable-libaom --enable-libaribb24 --enable-libbluray --enable-libdav1d --enable-libharfbuzz --enable-libjxl --enable-libmp3lame --enable-libopus --enable-librav1e --enable-librist --enable-librubberband --enable-libsnappy --enable-libsrt --enable-libssh --enable-libsvtav1 --enable-libtesseract --enable-libtheora --enable-libvidstab --enable-libvmaf --enable-libvorbis --enable-libvpx --enable-libwebp --enable-libx264 --enable-libx265 --enable-libxml2 --enable-libxvid --enable-lzma --enable-libfontconfig --enable-libfreetype --enable-frei0r --enable-libass --enable-libopencore-amrnb --enable-libopencore-amrwb --enable-libopenjpeg --enable-libspeex --enable-libsoxr --enable-libzmq --enable-libzimg --disable-libjack --disable-indev=jack --enable-videotoolbox --enable-audiotoolbox --enable-neon\n",
      "  libavutil      59. 39.100 / 59. 39.100\n",
      "  libavcodec     61. 19.101 / 61. 19.101\n",
      "  libavformat    61.  7.100 / 61.  7.100\n",
      "  libavdevice    61.  3.100 / 61.  3.100\n",
      "  libavfilter    10.  4.100 / 10.  4.100\n",
      "  libswscale      8.  3.100 /  8.  3.100\n",
      "  libswresample   5.  3.100 /  5.  3.100\n",
      "  libpostproc    58.  3.100 / 58.  3.100\n",
      "[mp3 @ 0x1460045b0] Estimating duration from bitrate, this may be inaccurate\n",
      "Input #0, concat, from 'concat_list.txt':\n",
      "  Duration: N/A, start: 0.000000, bitrate: 160 kb/s\n",
      "  Stream #0:0: Audio: mp3 (mp3float), 24000 Hz, mono, fltp, 160 kb/s\n",
      "Stream mapping:\n",
      "  Stream #0:0 -> #0:0 (copy)\n",
      "Output #0, mp3, to 'combined.mp3':\n",
      "  Metadata:\n",
      "    TSSE            : Lavf61.7.100\n",
      "  Stream #0:0: Audio: mp3, 24000 Hz, mono, fltp, 160 kb/s\n",
      "Press [q] to stop, [?] for help\n",
      "[mp3 @ 0x144e060e0] Estimating duration from bitrate, this may be inaccurate\n",
      "    Last message repeated 6 times\n",
      "[out#0/mp3 @ 0x6000027b8000] video:0KiB audio:148KiB subtitle:0KiB other streams:0KiB global headers:0KiB muxing overhead: 0.346561%\n",
      "size=     148KiB time=00:00:07.56 bitrate= 160.6kbits/s speed=2.08e+03x    \n"
     ]
    },
    {
     "data": {
      "text/plain": [
       "CompletedProcess(args=['ffmpeg', '-y', '-f', 'concat', '-safe', '0', '-i', 'concat_list.txt', '-c', 'copy', 'combined.mp3'], returncode=0)"
      ]
     },
     "execution_count": 15,
     "metadata": {},
     "output_type": "execute_result"
    }
   ],
   "source": [
    "# step6. 오디오 파일 병합\n",
    "\n",
    "import subprocess\n",
    "\n",
    "#3. 오디오 파일 연결을 위한 concat list 파일 생성 ###\n",
    "with open(\"concat_list.txt\", \"w\") as f:\n",
    "    for filename in tts_files:\n",
    "        f.write(f\"file '{filename}'\\n\")\n",
    "\n",
    "# 4. TTS 오디오 병합 ###\n",
    "print(\"🎵 TTS 오디오 병합 중...\")\n",
    "subprocess.run([\n",
    "    \"ffmpeg\", \"-y\", \"-f\", \"concat\", \"-safe\", \"0\",\n",
    "    \"-i\", \"concat_list.txt\", \"-c\", \"copy\", \"combined.mp3\"\n",
    "], check=True)"
   ]
  },
  {
   "cell_type": "code",
   "execution_count": 16,
   "id": "e48e9460-a562-4073-8866-33096c48dd7b",
   "metadata": {
    "tags": []
   },
   "outputs": [
    {
     "name": "stdout",
     "output_type": "stream",
     "text": [
      "📝 SRT 자막 생성 중...\n"
     ]
    }
   ],
   "source": [
    "# step7. 자막 생성 (정확히 1초 간격)\n",
    "print(\"📝 SRT 자막 생성 중...\")\n",
    "with open(\"output.srt\", \"w\", encoding=\"utf-8\") as f:\n",
    "    for i, line in enumerate(lines):\n",
    "        start_time = f\"00:00:0{i}.000\"\n",
    "        end_time = f\"00:00:0{i+1}.000\"\n",
    "        f.write(f\"{i+1}\\n{start_time} --> {end_time}\\n{line}\\n\\n\")"
   ]
  },
  {
   "cell_type": "code",
   "execution_count": 18,
   "id": "2d36ccb4-7a24-4a92-86ff-a957fe283243",
   "metadata": {
    "scrolled": true,
    "tags": []
   },
   "outputs": [
    {
     "name": "stderr",
     "output_type": "stream",
     "text": [
      "ffmpeg version 7.1.1 Copyright (c) 2000-2025 the FFmpeg developers\n",
      "  built with Apple clang version 16.0.0 (clang-1600.0.26.6)\n",
      "  configuration: --prefix=/opt/homebrew/Cellar/ffmpeg/7.1.1_2 --enable-shared --enable-pthreads --enable-version3 --cc=clang --host-cflags= --host-ldflags='-Wl,-ld_classic' --enable-ffplay --enable-gnutls --enable-gpl --enable-libaom --enable-libaribb24 --enable-libbluray --enable-libdav1d --enable-libharfbuzz --enable-libjxl --enable-libmp3lame --enable-libopus --enable-librav1e --enable-librist --enable-librubberband --enable-libsnappy --enable-libsrt --enable-libssh --enable-libsvtav1 --enable-libtesseract --enable-libtheora --enable-libvidstab --enable-libvmaf --enable-libvorbis --enable-libvpx --enable-libwebp --enable-libx264 --enable-libx265 --enable-libxml2 --enable-libxvid --enable-lzma --enable-libfontconfig --enable-libfreetype --enable-frei0r --enable-libass --enable-libopencore-amrnb --enable-libopencore-amrwb --enable-libopenjpeg --enable-libspeex --enable-libsoxr --enable-libzmq --enable-libzimg --disable-libjack --disable-indev=jack --enable-videotoolbox --enable-audiotoolbox --enable-neon\n",
      "  libavutil      59. 39.100 / 59. 39.100\n",
      "  libavcodec     61. 19.101 / 61. 19.101\n",
      "  libavformat    61.  7.100 / 61.  7.100\n",
      "  libavdevice    61.  3.100 / 61.  3.100\n",
      "  libavfilter    10.  4.100 / 10.  4.100\n",
      "  libswscale      8.  3.100 /  8.  3.100\n",
      "  libswresample   5.  3.100 /  5.  3.100\n",
      "  libpostproc    58.  3.100 / 58.  3.100\n",
      "Input #0, mov,mp4,m4a,3gp,3g2,mj2, from 'shorts.mp4':\n",
      "  Metadata:\n",
      "    major_brand     : isom\n",
      "    minor_version   : 512\n",
      "    compatible_brands: isomiso6iso2avc1mp41\n",
      "    encoder         : Lavf61.7.100\n",
      "  Duration: 00:00:09.08, start: 0.083333, bitrate: 4519 kb/s\n",
      "  Stream #0:0[0x1](und): Video: h264 (High) (avc1 / 0x31637661), yuv420p(progressive), 1024x1024, 4516 kb/s, 24 fps, 24 tbr, 12288 tbn (default)\n",
      "      Metadata:\n",
      "        handler_name    : VideoHandler\n",
      "        vendor_id       : [0][0][0][0]\n",
      "        encoder         : Lavc61.19.100 libx264\n",
      "Input #1, mp3, from 'combined.mp3':\n",
      "  Metadata:\n",
      "    encoder         : Lavf61.7.100\n",
      "  Duration: 00:00:07.56, start: 0.022042, bitrate: 160 kb/s\n",
      "  Stream #1:0: Audio: mp3 (mp3float), 24000 Hz, mono, fltp, 160 kb/s\n",
      "[Parsed_subtitles_0 @ 0x6000006202c0] libass API version: 0x1703000\n",
      "[Parsed_subtitles_0 @ 0x6000006202c0] libass source: tarball: 0.17.3\n",
      "[Parsed_subtitles_0 @ 0x6000006202c0] Shaper: FriBidi 1.0.15 (SIMPLE) HarfBuzz-ng 11.2.1 (COMPLEX)\n",
      "[Parsed_subtitles_0 @ 0x6000006202c0] Using font provider coretext\n",
      "Stream mapping:\n",
      "  Stream #0:0 -> #0:0 (h264 (native) -> h264 (libx264))\n",
      "  Stream #1:0 -> #0:1 (mp3 (mp3float) -> aac (native))\n",
      "Press [q] to stop, [?] for help\n",
      "[Parsed_subtitles_0 @ 0x60000060c000] libass API version: 0x1703000\n",
      "[Parsed_subtitles_0 @ 0x60000060c000] libass source: tarball: 0.17.3\n",
      "[Parsed_subtitles_0 @ 0x60000060c000] Shaper: FriBidi 1.0.15 (SIMPLE) HarfBuzz-ng 11.2.1 (COMPLEX)\n",
      "[Parsed_subtitles_0 @ 0x60000060c000] Using font provider coretext\n",
      "[Parsed_subtitles_0 @ 0x60000060c000] fontselect: (Arial, 400, 0) -> /System/Library/Fonts/Supplemental/Arial.ttf, -1, ArialMT\n",
      "[Parsed_subtitles_0 @ 0x60000060c000] Glyph 0xCF00 not found, selecting one more font for (Arial, 400, 0)\n",
      "[Parsed_subtitles_0 @ 0x60000060c000] fontselect: (Arial, 400, 0) -> /System/Library/Fonts/AppleSDGothicNeo.ttc, -1, AppleSDGothicNeo-Regular\n",
      "[libx264 @ 0x154f0da90] using cpu capabilities: ARMv8 NEON\n",
      "[libx264 @ 0x154f0da90] profile High, level 3.2, 4:2:0, 8-bit\n",
      "[libx264 @ 0x154f0da90] 264 - core 164 r3108 31e19f9 - H.264/MPEG-4 AVC codec - Copyleft 2003-2023 - http://www.videolan.org/x264.html - options: cabac=1 ref=3 deblock=1:0:0 analyse=0x3:0x113 me=hex subme=7 psy=1 psy_rd=1.00:0.00 mixed_ref=1 me_range=16 chroma_me=1 trellis=1 8x8dct=1 cqm=0 deadzone=21,11 fast_pskip=1 chroma_qp_offset=-2 threads=15 lookahead_threads=2 sliced_threads=0 nr=0 decimate=1 interlaced=0 bluray_compat=0 constrained_intra=0 bframes=3 b_pyramid=2 b_adapt=1 b_bias=0 direct=1 weightb=1 open_gop=0 weightp=2 keyint=250 keyint_min=24 scenecut=40 intra_refresh=0 rc_lookahead=40 rc=crf mbtree=1 crf=23.0 qcomp=0.60 qpmin=0 qpmax=69 qpstep=4 ip_ratio=1.40 aq=1:1.00\n",
      "Output #0, mp4, to 'final_output.mp4':\n",
      "  Metadata:\n",
      "    major_brand     : isom\n",
      "    minor_version   : 512\n",
      "    compatible_brands: isomiso6iso2avc1mp41\n",
      "    encoder         : Lavf61.7.100\n",
      "  Stream #0:0(und): Video: h264 (avc1 / 0x31637661), yuv420p(tv, progressive), 1024x1024, q=2-31, 24 fps, 12288 tbn (default)\n",
      "      Metadata:\n",
      "        handler_name    : VideoHandler\n",
      "        vendor_id       : [0][0][0][0]\n",
      "        encoder         : Lavc61.19.101 libx264\n",
      "      Side data:\n",
      "        cpb: bitrate max/min/avg: 0/0/0 buffer size: 0 vbv_delay: N/A\n",
      "  Stream #0:1: Audio: aac (LC) (mp4a / 0x6134706D), 24000 Hz, mono, fltp, 69 kb/s\n",
      "      Metadata:\n",
      "        encoder         : Lavc61.19.101 aac\n",
      "[out#0/mp4 @ 0x600000438000] video:2806KiB audio:76KiB subtitle:0KiB other streams:0KiB global headers:0KiB muxing overhead: 0.213493%\n",
      "frame=  218 fps=128 q=-1.0 Lsize=    2888KiB time=00:00:07.53 bitrate=3138.5kbits/s speed=4.42x    \n",
      "[libx264 @ 0x154f0da90] frame I:1     Avg QP:23.86  size: 53294\n",
      "[libx264 @ 0x154f0da90] frame P:59    Avg QP:23.04  size: 24288\n",
      "[libx264 @ 0x154f0da90] frame B:158   Avg QP:26.82  size:  8773\n",
      "[libx264 @ 0x154f0da90] consecutive B-frames:  0.5%  8.3%  1.4% 89.9%\n",
      "[libx264 @ 0x154f0da90] mb I  I16..4:  7.5% 66.3% 26.3%\n",
      "[libx264 @ 0x154f0da90] mb P  I16..4:  4.6% 15.6%  3.5%  P16..4: 40.1% 16.7%  6.3%  0.0%  0.0%    skip:13.1%\n",
      "[libx264 @ 0x154f0da90] mb B  I16..4:  0.8%  1.7%  0.4%  B16..8: 37.2%  7.5%  1.5%  direct: 1.9%  skip:49.0%  L0:40.3% L1:51.8% BI: 7.8%\n",
      "[libx264 @ 0x154f0da90] 8x8 transform intra:64.4% inter:78.3%\n",
      "[libx264 @ 0x154f0da90] coded y,uvDC,uvAC intra: 55.2% 52.8% 17.1% inter: 14.2% 14.8% 0.9%\n",
      "[libx264 @ 0x154f0da90] i16 v,h,dc,p: 44% 23% 11% 22%\n",
      "[libx264 @ 0x154f0da90] i8 v,h,dc,ddl,ddr,vr,hd,vl,hu: 27% 20% 21%  5%  4%  4%  6%  6%  6%\n",
      "[libx264 @ 0x154f0da90] i4 v,h,dc,ddl,ddr,vr,hd,vl,hu: 29% 21% 14%  5%  6%  6%  8%  7%  4%\n",
      "[libx264 @ 0x154f0da90] i8c dc,h,v,p: 50% 19% 28%  4%\n",
      "[libx264 @ 0x154f0da90] Weighted P-Frames: Y:0.0% UV:0.0%\n",
      "[libx264 @ 0x154f0da90] ref P L0: 67.1% 18.6% 10.8%  3.6%\n",
      "[libx264 @ 0x154f0da90] ref B L0: 94.1%  4.6%  1.3%\n",
      "[libx264 @ 0x154f0da90] ref B L1: 98.9%  1.1%\n",
      "[libx264 @ 0x154f0da90] kb/s:2529.84\n"
     ]
    },
    {
     "name": "stdout",
     "output_type": "stream",
     "text": [
      "✅ 완료: final_output.mp4\n"
     ]
    },
    {
     "name": "stderr",
     "output_type": "stream",
     "text": [
      "[aac @ 0x144e64b50] Qavg: 1697.801\n"
     ]
    }
   ],
   "source": [
    "# step8. 영상과 오디오, 자막 결합\n",
    "video_input = \"shorts.mp4\"\n",
    "output_video = \"final_output.mp4\"\n",
    "\n",
    "subprocess.run([\n",
    "    \"ffmpeg\", \"-y\",\n",
    "    \"-i\", video_input,\n",
    "    \"-i\", \"combined.mp3\",\n",
    "    \"-vf\", \"subtitles=output.srt\",\n",
    "    \"-c:v\", \"libx264\", \"-c:a\", \"aac\",\n",
    "    output_video\n",
    "], check=True)\n",
    "\n",
    "print(f\"✅ 완료: {output_video}\")"
   ]
  },
  {
   "cell_type": "code",
   "execution_count": null,
   "id": "f52a05c1-932d-4f73-977f-98b416511509",
   "metadata": {},
   "outputs": [],
   "source": []
  }
 ],
 "metadata": {
  "kernelspec": {
   "display_name": "Python 3 (ipykernel)",
   "language": "python",
   "name": "python3"
  },
  "language_info": {
   "codemirror_mode": {
    "name": "ipython",
    "version": 3
   },
   "file_extension": ".py",
   "mimetype": "text/x-python",
   "name": "python",
   "nbconvert_exporter": "python",
   "pygments_lexer": "ipython3",
   "version": "3.8.18"
  }
 },
 "nbformat": 4,
 "nbformat_minor": 5
}
